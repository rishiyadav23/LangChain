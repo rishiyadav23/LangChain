{
 "cells": [
  {
   "cell_type": "markdown",
   "id": "d511aeb6",
   "metadata": {},
   "source": [
    "#### Recursively split text by characters"
   ]
  },
  {
   "cell_type": "code",
   "execution_count": 10,
   "id": "8feaee78",
   "metadata": {},
   "outputs": [
    {
     "data": {
      "text/plain": [
       "[Document(metadata={'producer': 'xdvipdfmx (20220710)', 'creator': 'XeTeX output 2025.07.10:1332', 'creationdate': '2025-07-10T13:32:31+00:00', 'source': 'GPU_Inputfile2.pdf', 'total_pages': 2, 'page': 0, 'page_label': '1'}, page_content='Graphics Processing Unit (GPU)\\nA Graphics Processing Unit (GPU) is a specialized electronic circuit designed to\\naccelerate the processing of images, videos, and complex computational tasks.\\nUnlike a Central Processing Unit (CPU), which is optimized for general-purpose\\nsequential processing, a GPU excels at parallel processing, handling thousands of\\ntasks simultaneously. This makes GPUs indispensable for applications requiring'),\n",
       " Document(metadata={'producer': 'xdvipdfmx (20220710)', 'creator': 'XeTeX output 2025.07.10:1332', 'creationdate': '2025-07-10T13:32:31+00:00', 'source': 'GPU_Inputfile2.pdf', 'total_pages': 2, 'page': 0, 'page_label': '1'}, page_content='high computational throughput, such as graphics rendering, machine learning,\\nand scientific simulations.\\nHistory of GPUs\\nThe concept of GPUs emerged in the late 1990s when the demand for high-quality\\ngraphics in video games and multimedia applications grew. NVIDIA introduced\\nthe first GPU, the GeForce 256, in 1999, marketing it as a ”single-chip proces-\\nsor with integrated transform, lighting, triangle setup/clipping, and rendering'),\n",
       " Document(metadata={'producer': 'xdvipdfmx (20220710)', 'creator': 'XeTeX output 2025.07.10:1332', 'creationdate': '2025-07-10T13:32:31+00:00', 'source': 'GPU_Inputfile2.pdf', 'total_pages': 2, 'page': 0, 'page_label': '1'}, page_content='engines.” This marked a shift from fixed-function graphics hardware to pro-\\ngrammable shaders, enabling more complex and realistic visual effects.\\nOver the years, GPUs evolved from graphics-specific processors to versatile com-\\npute engines. The introduction of NVIDIA’s CUDA (Compute Unified Device Ar-\\nchitecture) in 2006 allowed developers to harness GPUs for general-purpose com-\\nputing (GPGPU), expanding their use beyond graphics to fields like artificial in-'),\n",
       " Document(metadata={'producer': 'xdvipdfmx (20220710)', 'creator': 'XeTeX output 2025.07.10:1332', 'creationdate': '2025-07-10T13:32:31+00:00', 'source': 'GPU_Inputfile2.pdf', 'total_pages': 2, 'page': 0, 'page_label': '1'}, page_content='telligence, data science, and cryptography.\\nKey Features of GPUs\\n• Parallel Processing:GPUs contain thousands of smaller cores (e.g., CUDA\\ncores in NVIDIA GPUs or stream processors in AMD GPUs) designed for par-\\nallel execution. This architecture enables GPUs to process large datasets\\nsimultaneously, unlike CPUs, which typically have fewer, more powerful\\ncores.\\n• High Throughput:GPUs are optimized for high-throughput tasks, perform-'),\n",
       " Document(metadata={'producer': 'xdvipdfmx (20220710)', 'creator': 'XeTeX output 2025.07.10:1332', 'creationdate': '2025-07-10T13:32:31+00:00', 'source': 'GPU_Inputfile2.pdf', 'total_pages': 2, 'page': 0, 'page_label': '1'}, page_content='ing many calculations at once. For example, rendering a single frame in a\\nvideo game involves millions of pixel calculations, which GPUs handle ef-\\nficiently.\\n• Specialized Architecture: Modern GPUs use architectures like NVIDIA’s\\nCUDA, AMD’s RDNA, or Intel’s Xe. These architectures include specialized\\nunits like texture mapping units and ray-tracing cores for graphics, as well\\nas tensor cores for AI workloads.\\n• Memory Bandwidth:GPUs have high-bandwidth memory (e.g., GDDR6) to'),\n",
       " Document(metadata={'producer': 'xdvipdfmx (20220710)', 'creator': 'XeTeX output 2025.07.10:1332', 'creationdate': '2025-07-10T13:32:31+00:00', 'source': 'GPU_Inputfile2.pdf', 'total_pages': 2, 'page': 0, 'page_label': '1'}, page_content='handle large datasets quickly, critical for tasks like 4K rendering or deep\\nlearning model training.\\n1'),\n",
       " Document(metadata={'producer': 'xdvipdfmx (20220710)', 'creator': 'XeTeX output 2025.07.10:1332', 'creationdate': '2025-07-10T13:32:31+00:00', 'source': 'GPU_Inputfile2.pdf', 'total_pages': 2, 'page': 1, 'page_label': '2'}, page_content='Technical Architecture of GPUs\\nA GPU’s architecture is designed for parallelism. For instance, NVIDIA’s GPUs use\\na streaming multiprocessor (SM) design, where each SM contains multiple CUDA\\ncores, shared memory, and registers. A high-end GPU like the NVIDIA RTX 4090\\nmay have over 16,000 CUDA cores, enabling massive parallel computation.\\nThe GPU pipeline includes:\\n1. Vertex Processing:Transforms 3D model vertices into 2D screen coordi-\\nnates.'),\n",
       " Document(metadata={'producer': 'xdvipdfmx (20220710)', 'creator': 'XeTeX output 2025.07.10:1332', 'creationdate': '2025-07-10T13:32:31+00:00', 'source': 'GPU_Inputfile2.pdf', 'total_pages': 2, 'page': 1, 'page_label': '2'}, page_content='nates.\\n2. Shader Execution:Programmable shaders (vertex, pixel, compute) define\\nhow objects are rendered or computed.\\n3. Rasterization: Converts 3D models into pixel fragments.\\n4. Texturing and Shading:Applies textures and lighting effects to pixels.\\n5. Output Merger:Combines pixel data into the final image.\\nFor non-graphics tasks, GPUs use APIs like CUDA or OpenCL to distribute compu-\\ntations across cores. For example, a matrix multiplication operation in machine\\nlearning can be expressed as:'),\n",
       " Document(metadata={'producer': 'xdvipdfmx (20220710)', 'creator': 'XeTeX output 2025.07.10:1332', 'creationdate': '2025-07-10T13:32:31+00:00', 'source': 'GPU_Inputfile2.pdf', 'total_pages': 2, 'page': 1, 'page_label': '2'}, page_content='learning can be expressed as:\\nCij =\\n∑\\nk\\nAik · Bkj\\nGPUs accelerate this by parallelizing the summation across thousands of cores.\\nCommon Applications of GPUs\\nGPUs have transcended their original purpose of graphics rendering to become\\ncritical in various domains:\\n• Gaming: GPUs render high-fidelity graphics in real-time, supporting fea-\\ntures like ray tracing for realistic lighting and shadows. Modern games like\\nCyberpunk 2077 rely on GPUs to achieve photorealistic visuals.'),\n",
       " Document(metadata={'producer': 'xdvipdfmx (20220710)', 'creator': 'XeTeX output 2025.07.10:1332', 'creationdate': '2025-07-10T13:32:31+00:00', 'source': 'GPU_Inputfile2.pdf', 'total_pages': 2, 'page': 1, 'page_label': '2'}, page_content='• Machine Learning and AI:GPUs accelerate training and inference of neu-\\nral networks. Frameworks like TensorFlow and PyTorch leverage GPUs to\\nperform matrix operations and gradient computations efficiently. For ex-\\nample, training a large language model can be 10-100x faster on a GPU com-\\npared to a CPU.\\n• Video Editing and Rendering:GPUs speed up tasks like video encoding,\\ndecoding, and effects rendering in software like Adobe Premiere Pro.'),\n",
       " Document(metadata={'producer': 'xdvipdfmx (20220710)', 'creator': 'XeTeX output 2025.07.10:1332', 'creationdate': '2025-07-10T13:32:31+00:00', 'source': 'GPU_Inputfile2.pdf', 'total_pages': 2, 'page': 1, 'page_label': '2'}, page_content='• Cryptocurrency Mining: GPUs are used to solve cryptographic puzzles\\nin proof-of-work systems like Bitcoin or Ethereum (pre-merge), leveraging\\ntheir parallel processing capabilities.\\n• Scientific Simulations:GPUs accelerate simulations in physics, chemistry,\\nand climate modeling. For instance, molecular dynamics simulations use\\nGPUs to compute interactions between thousands of atoms.\\n2')]"
      ]
     },
     "execution_count": 10,
     "metadata": {},
     "output_type": "execute_result"
    }
   ],
   "source": [
    "from langchain_text_splitters import RecursiveCharacterTextSplitter\n",
    "from langchain_community.document_loaders import WikipediaLoader\n",
    "from langchain_community.document_loaders import PyPDFLoader\n",
    "\n",
    "# docs = WikipediaLoader(query=\"Langchain\", load_max_docs=10).load()\n",
    "loader = PyPDFLoader('GPU_Inputfile2.pdf')\n",
    "docs = loader.load()\n",
    "# docs[0].metadata\n",
    "\n",
    "text_splitter = RecursiveCharacterTextSplitter(\n",
    "    chunk_size=500,\n",
    "    chunk_overlap=50)\n",
    "\n",
    "final_docs = text_splitter.split_documents(docs)\n",
    "final_docs"
   ]
  },
  {
   "cell_type": "code",
   "execution_count": 12,
   "id": "e4008ad7",
   "metadata": {},
   "outputs": [
    {
     "data": {
      "text/plain": [
       "[Document(metadata={'source': 'input_gpu_file.txt'}, page_content=\"Graphics Processing Unit (GPU)\\n\\nA Graphics Processing Unit (GPU) is a specialized electronic circuit designed to accelerate the processing of images and videos. Unlike a Central Processing Unit (CPU), which is a general-purpose processor, a GPU is optimized for parallel processing, making it highly efficient for tasks that involve large datasets and repetitive computations.\\n\\nKey Features of GPUs:\\n- Parallel Processing: GPUs contain thousands of smaller cores that can handle multiple tasks simultaneously, ideal for rendering graphics, machine learning, and scientific simulations.\\n- High Throughput: They excel at performing many calculations at once, significantly speeding up tasks like 3D rendering and data analysis.\\n- Specialized Architecture: GPUs are built with architectures like NVIDIA's CUDA or AMD's RDNA, tailored for graphics and compute-intensive workloads.\\n\\nCommon Uses:\\n- Gaming: GPUs render high-quality graphics in real-time for video games.\\n- Machine Learning: They accelerate training and inference in neural networks, widely used in AI applications.\\n- Video Editing: GPUs speed up rendering and encoding of high-resolution videos.\\n- Cryptocurrency Mining: Their parallel processing power is leveraged for solving complex cryptographic puzzles.\\n- Scientific Simulations: GPUs are used in fields like physics, chemistry, and climate modeling for faster computations.\\n\\nPopular GPU Manufacturers:\\n- NVIDIA: Known for GeForce (consumer) and Tesla/Quadro (professional) series.\\n- AMD: Offers Radeon (consumer) and Instinct (professional) GPUs.\\n- Intel: Emerging with Arc GPUs for gaming and integrated graphics solutions.\\n\\nGPUs have become essential in modern computing, extending beyond graphics to power advancements in AI, data science, and more.\")]"
      ]
     },
     "execution_count": 12,
     "metadata": {},
     "output_type": "execute_result"
    }
   ],
   "source": [
    "from langchain_community.document_loaders import TextLoader\n",
    "loader = TextLoader('input_gpu_file.txt')\n",
    "docs = loader.load()\n",
    "docs"
   ]
  },
  {
   "cell_type": "code",
   "execution_count": 14,
   "id": "0fc455b1",
   "metadata": {},
   "outputs": [
    {
     "data": {
      "text/plain": [
       "\"Graphics Processing Unit (GPU)\\n\\nA Graphics Processing Unit (GPU) is a specialized electronic circuit designed to accelerate the processing of images and videos. Unlike a Central Processing Unit (CPU), which is a general-purpose processor, a GPU is optimized for parallel processing, making it highly efficient for tasks that involve large datasets and repetitive computations.\\n\\nKey Features of GPUs:\\n- Parallel Processing: GPUs contain thousands of smaller cores that can handle multiple tasks simultaneously, ideal for rendering graphics, machine learning, and scientific simulations.\\n- High Throughput: They excel at performing many calculations at once, significantly speeding up tasks like 3D rendering and data analysis.\\n- Specialized Architecture: GPUs are built with architectures like NVIDIA's CUDA or AMD's RDNA, tailored for graphics and compute-intensive workloads.\\n\\nCommon Uses:\\n- Gaming: GPUs render high-quality graphics in real-time for video games.\\n- Machine Learning: They accelerate training and inference in neural networks, widely used in AI applications.\\n- Video Editing: GPUs speed up rendering and encoding of high-resolution videos.\\n- Cryptocurrency Mining: Their parallel processing power is leveraged for solving complex cryptographic puzzles.\\n- Scientific Simulations: GPUs are used in fields like physics, chemistry, and climate modeling for faster computations.\\n\\nPopular GPU Manufacturers:\\n- NVIDIA: Known for GeForce (consumer) and Tesla/Quadro (professional) series.\\n- AMD: Offers Radeon (consumer) and Instinct (professional) GPUs.\\n- Intel: Emerging with Arc GPUs for gaming and integrated graphics solutions.\\n\\nGPUs have become essential in modern computing, extending beyond graphics to power advancements in AI, data science, and more.\""
      ]
     },
     "execution_count": 14,
     "metadata": {},
     "output_type": "execute_result"
    }
   ],
   "source": [
    "gpu_data = \"\"\n",
    "\n",
    "with open('input_gpu_file.txt', 'r') as file:\n",
    "    gpu_data = file.read()\n",
    "\n",
    "gpu_data\n",
    "\n",
    "# Data in form of string instead of list of documents"
   ]
  },
  {
   "cell_type": "code",
   "execution_count": 21,
   "id": "e70c54da",
   "metadata": {},
   "outputs": [
    {
     "name": "stdout",
     "output_type": "stream",
     "text": [
      "page_content='Graphics Processing Unit (GPU)'\n",
      "page_content='A Graphics Processing Unit (GPU) is a specialized electronic circuit designed to accelerate the processing of images and videos. Unlike a Central Processing Unit (CPU), which is a general-purpose'\n"
     ]
    }
   ],
   "source": [
    "text_splitter = RecursiveCharacterTextSplitter(\n",
    "    chunk_size=200,\n",
    "    chunk_overlap=20)\n",
    "\n",
    "text = text_splitter.create_documents([gpu_data])\n",
    "print(text[0])\n",
    "print(text[1])"
   ]
  },
  {
   "cell_type": "markdown",
   "id": "701176e8",
   "metadata": {},
   "source": [
    "#### Text Splitting from Documents - RecursiveCharacter Text Splitters\n",
    "\n",
    "This text splitter is the recommendend one for generic text, parameterized by a list of characters. It tries to split on them in order until the chunks are small enough. The default list if [\"\\n\\n\", \"\\n\", \"\",\"\"].\n",
    "\n",
    "#### Split by character - Character Text Splitter\n",
    "\n",
    "Simplest method, split based on a given character sequence, which defaults to \"\\n\\n\". Chunk length is measured by number of characters"
   ]
  },
  {
   "cell_type": "code",
   "execution_count": 24,
   "id": "bfbefc07",
   "metadata": {},
   "outputs": [
    {
     "name": "stderr",
     "output_type": "stream",
     "text": [
      "Created a chunk of size 344, which is longer than the specified 100\n",
      "Created a chunk of size 498, which is longer than the specified 100\n",
      "Created a chunk of size 512, which is longer than the specified 100\n",
      "Created a chunk of size 249, which is longer than the specified 100\n"
     ]
    }
   ],
   "source": [
    "from langchain_text_splitters import CharacterTextSplitter\n",
    "text_splitter = CharacterTextSplitter(\n",
    "    separator=\"\\n\\n\",\n",
    "    chunk_size=100,\n",
    "    chunk_overlap=20)\n",
    "text = text_splitter.split_documents(docs)"
   ]
  },
  {
   "cell_type": "code",
   "execution_count": 25,
   "id": "c7216cca",
   "metadata": {},
   "outputs": [
    {
     "name": "stderr",
     "output_type": "stream",
     "text": [
      "Created a chunk of size 344, which is longer than the specified 200\n",
      "Created a chunk of size 498, which is longer than the specified 200\n",
      "Created a chunk of size 512, which is longer than the specified 200\n",
      "Created a chunk of size 249, which is longer than the specified 200\n"
     ]
    }
   ],
   "source": [
    "gpu_data = \"\"\n",
    "with open('input_gpu_file.txt', 'r') as file:\n",
    "    gpu_data = file.read()\n",
    "\n",
    "text_splitter = CharacterTextSplitter(chunk_size=200, chunk_overlap=20)\n",
    "text = text_splitter.create_documents([gpu_data])"
   ]
  }
 ],
 "metadata": {
  "kernelspec": {
   "display_name": "langenv",
   "language": "python",
   "name": "python3"
  },
  "language_info": {
   "codemirror_mode": {
    "name": "ipython",
    "version": 3
   },
   "file_extension": ".py",
   "mimetype": "text/x-python",
   "name": "python",
   "nbconvert_exporter": "python",
   "pygments_lexer": "ipython3",
   "version": "3.13.5"
  }
 },
 "nbformat": 4,
 "nbformat_minor": 5
}
